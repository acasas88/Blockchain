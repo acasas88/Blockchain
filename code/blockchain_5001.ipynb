{
 "cells": [
  {
   "cell_type": "code",
   "execution_count": 62,
   "metadata": {},
   "outputs": [],
   "source": [
    "import sys\n",
    "import datetime\n",
    "import hashlib\n",
    "import json\n",
    "from flask import Flask, jsonify , request\n",
    "\n",
    "import requests\n",
    "from uuid import uuid4\n",
    "from urllib.parse import urlparse\n"
   ]
  },
  {
   "cell_type": "code",
   "execution_count": 63,
   "metadata": {},
   "outputs": [
    {
     "data": {
      "text/plain": [
       "ParseResult(scheme='http', netloc='127.0.0.1:5001', path='', params='', query='', fragment='')"
      ]
     },
     "execution_count": 63,
     "metadata": {},
     "output_type": "execute_result"
    }
   ],
   "source": [
    "from urllib.parse import urlparse\n",
    "address = 'http://127.0.0.1:5001'\n",
    "parse_url = urlparse(address)\n",
    "parse_url"
   ]
  },
  {
   "cell_type": "code",
   "execution_count": 64,
   "metadata": {},
   "outputs": [],
   "source": [
    "class Blockchain:\n",
    "    def __init__(self):\n",
    "        self.chain = []\n",
    "        self.transactions = []\n",
    "        self.create_block(proof=1, previous_hash='0')\n",
    "        self.nodes = set()\n",
    "\n",
    "    def add_node(self, address):\n",
    "        parse_url = urlparse(address)\n",
    "        self.nodes.add(parse_url.netloc)\n",
    "    \n",
    "    def replace_chain(self):\n",
    "        network = self.nodes\n",
    "        longest_chain = None\n",
    "        max_length = len(self.chain)\n",
    "\n",
    "        for node in network:\n",
    "            print(f'http://{node}/get_chain')\n",
    "            response = requests.get(f'http://{node}/get_chain')\n",
    "            if response.status_code==200:\n",
    "                length = response.json()['length']\n",
    "                print(length)\n",
    "                chain = response.json()['chain']\n",
    "                if length > max_length and self.is_chain_valid(chain):\n",
    "                    longest_chain = chain\n",
    "                    max_length = length\n",
    "            \n",
    "        if longest_chain:\n",
    "            self.chain = longest_chain\n",
    "            return True\n",
    "        return False \n",
    "\n",
    "    def create_block(self, proof, previous_hash):\n",
    "        block = {'index':len(self.chain)+1,\n",
    "                 'timestamp':str(datetime.datetime.now()),\n",
    "                 'proof':proof,\n",
    "                 'previous_hash':previous_hash,\n",
    "                 'transactions':self.transactions}\n",
    "        \n",
    "        self.transactions = []\n",
    "        self.chain.append(block)\n",
    "        return block\n",
    "    \n",
    "    def add_transaction(self, sender, recevier, amount):\n",
    "        self.transactions.append({'sender':sender , 'recevier':recevier, 'amount':amount})\n",
    "        previous_block = self.get_previous_block()\n",
    "        return previous_block[\"index\"]-1\n",
    "\n",
    "    def get_previous_block(self):\n",
    "        return self.chain[-1]\n",
    "    \n",
    "    def proof_of_work(self, previous_proof):\n",
    "        new_proof = 1\n",
    "        check_proof = False\n",
    "\n",
    "        try:\n",
    "            while check_proof is False:\n",
    "                hash_operation = hashlib.sha256(str(new_proof**2 - previous_proof**2).encode()).hexdigest()\n",
    "                if hash_operation[:4] == '0000':\n",
    "                    check_proof = True\n",
    "                else:\n",
    "                    new_proof += 1\n",
    "                \n",
    "            return  new_proof\n",
    "        \n",
    "        except Exception as e:        \n",
    "            print(f'\\t - ::Error:: error mining : {str(e)}') \n",
    "            #sys.exit(1)\n",
    "        \n",
    "    def hash(self, block):\n",
    "        encoded_block = json.dumps(block, sort_keys = True).encode()\n",
    "        return hashlib.sha256(encoded_block).hexdigest()\n",
    "    \n",
    "    def is_chain_valid(self, chain):\n",
    "        previous_block = chain[0]\n",
    "        block_index = 1\n",
    "        while block_index < len(chain):\n",
    "            block = chain[block_index]\n",
    "            if block['previous_hash'] != self.hash(previous_block):\n",
    "                return False\n",
    "            \n",
    "            previous_proof = previous_block['proof']\n",
    "            proof = block['proof']\n",
    "            hash_operation = hashlib.sha256(str(proof**2 - previous_proof**2).encode()).hexdigest()\n",
    "            if hash_operation[:4] != '0000':\n",
    "                return False\n",
    "\n",
    "            previous_block = block\n",
    "            block_index += 1\n",
    "\n",
    "        return True\n",
    "    \n",
    "\n",
    "    "
   ]
  },
  {
   "cell_type": "code",
   "execution_count": 65,
   "metadata": {},
   "outputs": [],
   "source": [
    "app = Flask(__name__)\n",
    "blockchain = Blockchain()\n",
    "\n",
    "# Creando una dirección para el nodo en puerto 5001\n",
    "node_address = str(uuid4()).replace('-','')\n",
    "\n",
    "# Minando bloque\n",
    "@app.route('/mine_block', methods=['GET'])\n",
    "\n",
    "def mine_block():\n",
    "    previous_block = blockchain.get_previous_block()    \n",
    "    previous_proof = previous_block['proof']\n",
    "\n",
    "    proof = blockchain.proof_of_work(previous_proof)\n",
    "    print(f'::info:: Mine OK')\n",
    "    blockchain.add_transaction(sender=node_address, recevier='Moostay', amount=1)\n",
    "    previous_hash = blockchain.hash(previous_block)\n",
    "    block = blockchain.create_block(proof, previous_hash)\n",
    "    response = {\"message\":'You has mined a block',\n",
    "                'index': block['index'],\n",
    "                'timestamp':block['timestamp'],\n",
    "                'proof':block['proof'],\n",
    "                'previous_hash':block['previous_hash'],\n",
    "                'transactions':block['transactions']}\n",
    "    return jsonify(response),200\n",
    "\n",
    "@app.route('/get_chain', methods=['GET'])\n",
    "def get_chain():\n",
    "    response = {'chain': blockchain.chain,\n",
    "                'length':len(blockchain.chain)}\n",
    "    return jsonify(response), 200\n",
    "\n",
    "@app.route('/is_valid', methods=['GET'])\n",
    "def is_valid():\n",
    "    is_valid = blockchain.is_chain_valid(blockchain.chain)\n",
    "    if is_valid:\n",
    "        response = {'message':'Bloackchain valid'}\n",
    "    else:\n",
    "        response = {'message':'Bloackchain NO valid'}\n",
    "    return jsonify(response),200\n"
   ]
  },
  {
   "cell_type": "code",
   "execution_count": 66,
   "metadata": {},
   "outputs": [],
   "source": [
    "# Agregar transacción al blockchain\n",
    "@app.route('/add_transaction', methods=['POST'])\n",
    "def add_transaction():\n",
    "    json = request.get_json()\n",
    "    transaction_keys = ['sender','recevier','amount']\n",
    "    if not all (key in json for key in transaction_keys):\n",
    "        return'Algún elemento de la transacción está faltando',400\n",
    "    \n",
    "    index = blockchain.add_transaction(json['sender'], json['recevier'], json['amount'])\n",
    "    response = {'message':f'La transacción será añadida al bloque: {index}'}\n",
    "    return jsonify(response), 201    #-201 porque es port request\n",
    "\n",
    "# Descentralizando el blockchain\n",
    "\n",
    "#Conectando nuevos nodos\n",
    "@app.route('/connect_node', methods=['POST'])\n",
    "def connect_node():\n",
    "    json = request.get_json()\n",
    "    nodes = json.get('nodes')\n",
    "    if nodes is None:\n",
    "        return \"No node\", 401\n",
    "    for node in nodes:\n",
    "        blockchain.add_node(node)\n",
    "    response = {'message':'Todos los nodos estan ahora conectados',\n",
    "                'total_nodes':list(blockchain.nodes)}\n",
    "    return jsonify(response), 201\n",
    "    \n",
    "\n",
    "# remplazando la cadena por la mas larga\n",
    "@app.route('/replace_chain', methods=['GET'])\n",
    "def replace_chain():\n",
    "    is_chain_replace = blockchain.replace_chain()\n",
    "    if is_chain_replace:\n",
    "        response = {'message':'Nodes replaced valid', 'new_chain':blockchain.chain}\n",
    "    else:\n",
    "        response = {'message':'The chain is OK' , 'actual_chain':blockchain.chain}\n",
    "    return jsonify(response),200"
   ]
  },
  {
   "cell_type": "code",
   "execution_count": 67,
   "metadata": {},
   "outputs": [
    {
     "name": "stdout",
     "output_type": "stream",
     "text": [
      " * Serving Flask app '__main__'\n",
      " * Debug mode: off\n"
     ]
    },
    {
     "name": "stderr",
     "output_type": "stream",
     "text": [
      "WARNING: This is a development server. Do not use it in a production deployment. Use a production WSGI server instead.\n",
      " * Running on all addresses (0.0.0.0)\n",
      " * Running on http://127.0.0.1:5001\n",
      " * Running on http://192.168.20.61:5001\n",
      "Press CTRL+C to quit\n",
      "127.0.0.1 - - [21/Dec/2023 23:12:27] \"GET /get_chain HTTP/1.1\" 200 -\n",
      "127.0.0.1 - - [21/Dec/2023 23:12:33] \"POST /connect_node HTTP/1.1\" 201 -\n",
      "127.0.0.1 - - [21/Dec/2023 23:12:42] \"GET /replace_chain HTTP/1.1\" 200 -\n"
     ]
    },
    {
     "name": "stdout",
     "output_type": "stream",
     "text": [
      "http://127.0.0.1:5002/get_chain\n",
      "1\n",
      "http://127.0.0.1:5000/get_chain\n",
      "2\n"
     ]
    },
    {
     "name": "stderr",
     "output_type": "stream",
     "text": [
      "127.0.0.1 - - [21/Dec/2023 23:12:57] \"GET /get_chain HTTP/1.1\" 200 -\n",
      "127.0.0.1 - - [21/Dec/2023 23:15:32] \"GET /get_chain HTTP/1.1\" 200 -\n",
      "127.0.0.1 - - [21/Dec/2023 23:15:52] \"GET /mine_block HTTP/1.1\" 200 -\n"
     ]
    },
    {
     "name": "stdout",
     "output_type": "stream",
     "text": [
      "::info:: Mine OK\n"
     ]
    },
    {
     "name": "stderr",
     "output_type": "stream",
     "text": [
      "127.0.0.1 - - [21/Dec/2023 23:16:14] \"GET /get_chain HTTP/1.1\" 200 -\n",
      "127.0.0.1 - - [21/Dec/2023 23:17:40] \"GET /get_chain HTTP/1.1\" 200 -\n",
      "127.0.0.1 - - [21/Dec/2023 23:18:07] \"GET /get_chain HTTP/1.1\" 200 -\n",
      "127.0.0.1 - - [21/Dec/2023 23:18:28] \"GET /replace_chain HTTP/1.1\" 200 -\n"
     ]
    },
    {
     "name": "stdout",
     "output_type": "stream",
     "text": [
      "http://127.0.0.1:5002/get_chain\n",
      "3\n",
      "http://127.0.0.1:5000/get_chain\n",
      "3\n"
     ]
    },
    {
     "name": "stderr",
     "output_type": "stream",
     "text": [
      "127.0.0.1 - - [21/Dec/2023 23:19:19] \"GET /get_chain HTTP/1.1\" 200 -\n",
      "127.0.0.1 - - [21/Dec/2023 23:20:10] \"GET /get_chain HTTP/1.1\" 200 -\n",
      "127.0.0.1 - - [21/Dec/2023 23:20:42] \"GET /get_chain HTTP/1.1\" 200 -\n",
      "127.0.0.1 - - [21/Dec/2023 23:20:43] \"GET /get_chain HTTP/1.1\" 200 -\n",
      "127.0.0.1 - - [21/Dec/2023 23:20:47] \"GET /get_chain HTTP/1.1\" 200 -\n",
      "127.0.0.1 - - [21/Dec/2023 23:20:48] \"GET /get_chain HTTP/1.1\" 200 -\n"
     ]
    }
   ],
   "source": [
    "app.run(host='0.0.0.0', port=5001)"
   ]
  }
 ],
 "metadata": {
  "kernelspec": {
   "display_name": "Python 3",
   "language": "python",
   "name": "python3"
  },
  "language_info": {
   "codemirror_mode": {
    "name": "ipython",
    "version": 3
   },
   "file_extension": ".py",
   "mimetype": "text/x-python",
   "name": "python",
   "nbconvert_exporter": "python",
   "pygments_lexer": "ipython3",
   "version": "3.11.2"
  }
 },
 "nbformat": 4,
 "nbformat_minor": 2
}
